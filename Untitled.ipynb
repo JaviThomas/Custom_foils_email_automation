{
 "cells": [
  {
   "cell_type": "code",
   "execution_count": 1,
   "metadata": {},
   "outputs": [],
   "source": [
    "\n",
    "import smtplib\n",
    "import pandas as pd\n",
    "import csv\n",
    "import imghdr\n",
    "from email.message import EmailMessage"
   ]
  },
  {
   "cell_type": "code",
   "execution_count": 2,
   "metadata": {},
   "outputs": [],
   "source": [
    "# Your information here\n",
    "EMAIL_ADDRESS = ('javierethomas@yahoo.com')\n",
    "EMAIL_PASSWORD = ('nhgu xfov lhqd cvzy') # Note: This password is the 3rd party created password\n",
    "\n",
    "\n",
    "f = open('test_email_sendlist.txt') #name of the email_list file\n",
    "\n",
    "csv_f = csv.reader(f)\n",
    "\n"
   ]
  },
  {
   "cell_type": "code",
   "execution_count": 7,
   "metadata": {},
   "outputs": [],
   "source": [
    "for row in csv_f :\n",
    "    contacts = (row[:-1])\n",
    "    file_location = (row[-1])\n",
    "\n",
    "    msg = EmailMessage()\n",
    "    msg['Subject'] = 'Invoice for your order from Custom Foils' # Subject Attached with Email\n",
    "    msg['From'] = EMAIL_ADDRESS\n",
    "    msg['To'] =  ', '.join(contacts)\n",
    "\n",
    "    msg.set_content('Attached to this email is your invoice, thank you for your business!') # Message Attached with Email\n",
    "    #try:\n",
    "    with open(file_location, 'rb') as f:\n",
    "        file_data = f.read()\n",
    "        file_name_list = f.name\n",
    "        file_name = file_name_list.split(\"\\\\\")\n",
    "        file_name = file_name[-1]\n",
    "\n",
    "    msg.add_attachment(file_data, maintype='application' , subtype='octet-stream', filename=file_name)\n",
    "\n",
    "    with smtplib.SMTP_SSL('smtp.mail.yahoo.com', 465) as smtp:\n",
    "        smtp.login(EMAIL_ADDRESS, EMAIL_PASSWORD)\n",
    "        smtp.send_message(msg)\n",
    "    #except ValueError:\n",
    "       # print(\"The file location is incorrect or does not exist. The associated email(s) are \")\n",
    "        #print(contacts)"
   ]
  },
  {
   "cell_type": "code",
   "execution_count": 4,
   "metadata": {
    "tags": []
   },
   "outputs": [
    {
     "output_type": "stream",
     "name": "stdout",
     "text": "Cover Letter Trimble.pdf\n"
    }
   ],
   "source": [
    "\n",
    "print(file_name)"
   ]
  },
  {
   "cell_type": "code",
   "execution_count": null,
   "metadata": {},
   "outputs": [],
   "source": []
  },
  {
   "cell_type": "code",
   "execution_count": null,
   "metadata": {},
   "outputs": [],
   "source": []
  },
  {
   "cell_type": "code",
   "execution_count": null,
   "metadata": {},
   "outputs": [],
   "source": []
  }
 ],
 "metadata": {
  "kernelspec": {
   "display_name": "Python 3",
   "language": "python",
   "name": "python3"
  },
  "language_info": {
   "codemirror_mode": {
    "name": "ipython",
    "version": 3
   },
   "file_extension": ".py",
   "mimetype": "text/x-python",
   "name": "python",
   "nbconvert_exporter": "python",
   "pygments_lexer": "ipython3",
   "version": "3.7.6"
  }
 },
 "nbformat": 4,
 "nbformat_minor": 4
}